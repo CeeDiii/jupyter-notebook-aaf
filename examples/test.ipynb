{
    "cells": [
        {
            "cell_type": "code",
            "execution_count": null,
            "metadata": {
                "tags": [
                    "parameters"
                ]
            },
            "outputs": [],
            "source": [
                "# DO NOT DELETE THIS CELL\n",
                "# ADD YOUR PARAMETER DEFAULT VALUES HERE\n",
                "params = {\n",
                "    \"write_to_sql\": False\n",
                "}"
            ]
        },
        {
            "cell_type": "code",
            "execution_count": null,
            "metadata": {},
            "outputs": [],
            "source": [
                "import json\n",
                "import os\n",
                "from dotenv import load_dotenv\n",
                "import pandas as pd\n",
                "import pyodbc\n",
                "from sqlalchemy import create_engine\n",
                "from sqlalchemy.engine import URL\n",
                "\n",
                "def is_dev_mode(env_mode: str):\n",
                "    \"\"\"\n",
                "    check if the current env_mode is \"dev\", otherwise \"prod\" is assumed\n",
                "    \"\"\"\n",
                "    return env_mode == \"dev\"\n",
                "\n",
                "def debug(var):\n",
                "    \"\"\"\n",
                "    only debug (print) the variables if env_mode is \"dev\"\n",
                "    \"\"\"\n",
                "    if is_dev_mode(ENV_MODE):\n",
                "        return var\n",
                "    else:\n",
                "        pass\n",
                "\n",
                "def get_available_sql_driver():\n",
                "    driver_names = [x for x in pyodbc.drivers() if x.endswith(' for SQL Server')]\n",
                "    if len(driver_names) > 0:\n",
                "        driver_name = driver_names[0]\n",
                "        return driver_name\n",
                "    else:\n",
                "       raise ValueError(\"Cannot connect. No suitable driver found.\\nInstall driver from here: https://learn.microsoft.com/en-us/sql/connect/odbc/download-odbc-driver-for-sql-server?view=sql-server-ver16\\n\\n\")\n",
                "\n",
                "def create_sql_connection_string_with_driver(odcb_conn_str: str, driver: str):\n",
                "    \"\"\"\n",
                "    get the odbc connection string from here: https://portal.azure.com/#@dolderag.onmicrosoft.com/resource/subscriptions/888af663-7438-4b1b-940a-87795e06ba4d/resourceGroups/rg-prod-sql/providers/Microsoft.Sql/servers/sds-prod-dolder/databases/DolderDB/connectionStrings\n",
                "    returns a string in this format: Driver={ODBC Driver 18 for SQL Server};Server=tcp:sds-prod-dolder.database.windows.net,1433;Database=DolderDB;Uid={your_user_name};Pwd={your_user_password};Encrypt=yes;TrustServerCertificate=no;Connection Timeout=30;\n",
                "    \"\"\"\n",
                "    return f\"Driver={{{driver}}};{odcb_conn_str}\"\n",
                "\n",
                "def initialize_sql_connection(odcb_conn_str: str):\n",
                "    \"\"\"\n",
                "    initialize the db connection with the following steps\n",
                "    1. get available odbc driver or raise exception if not suitable option is found\n",
                "    2. add driver prefix to odcb connection string\n",
                "    3. create connection with sqlalchemy using a mssql+pyodbc conn string\n",
                "    \"\"\"\n",
                "    driver = get_available_sql_driver()\n",
                "    sql_conn_str = create_sql_connection_string_with_driver(odcb_conn_str, driver)\n",
                "    connection_url = URL.create(\"mssql+pyodbc\", query={\"odbc_connect\": sql_conn_str})\n",
                "    engine = create_engine(connection_url)\n",
                "    conn = engine.connect()\n",
                "    return (conn, engine)\n",
                "\n",
                "load_dotenv()\n",
                "ENV_MODE = os.environ[\"ENV_MODE\"]\n",
                "ODBC_CONN_STR = os.environ[\"SQL_CONNECTION_STRING\"]\n",
                "_, engine = initialize_sql_connection(ODBC_CONN_STR)"
            ]
        },
        {
            "cell_type": "code",
            "execution_count": null,
            "metadata": {},
            "outputs": [],
            "source": [
                "# GET DATA\n",
                "sales_transactions = pd.read_sql(con=engine, sql=\"SELECT * FROM etl.SalesTransactions st WHERE YEAR(st.PostingDate) > 2020\")"
            ]
        },
        {
            "cell_type": "code",
            "execution_count": null,
            "metadata": {},
            "outputs": [],
            "source": [
                "debug(sales_transactions)"
            ]
        },
        {
            "cell_type": "code",
            "execution_count": null,
            "metadata": {},
            "outputs": [],
            "source": [
                "sales_transactions[\"PostingDate\"] = pd.to_datetime(sales_transactions[\"PostingDate\"])\n",
                "sales_transactions[\"Year\"] = sales_transactions[\"PostingDate\"].dt.year\n",
                "sales_transactions[\"Month\"] = sales_transactions[\"PostingDate\"].dt.month\n",
                "grouped_sales = sales_transactions.groupby(by=[\"CompanyCode\", \"Year\", \"Month\"])[[\"Quantity\", \"NetSalesEUR\", \"GrossProfitEUR\"]].sum()"
            ]
        },
        {
            "cell_type": "code",
            "execution_count": null,
            "metadata": {},
            "outputs": [],
            "source": [
                "debug(grouped_sales)"
            ]
        },
        {
            "cell_type": "code",
            "execution_count": null,
            "metadata": {
                "tags": []
            },
            "outputs": [],
            "source": [
                "# DO NOT DELETE THIS CELL\n",
                "# ASSIGN YOUR RETURN VALUE HERE\n",
                "return_value: pd.DataFrame = grouped_sales.reset_index()"
            ]
        },
        {
            "cell_type": "code",
            "execution_count": null,
            "metadata": {},
            "outputs": [],
            "source": [
                "# EDIT THESE VARIABLES TO DEFINE THE SINK TABLE\n",
                "sink_table_name=\"SalesYTDByCompanyYear\"\n",
                "sink_schema_name=\"etl\""
            ]
        },
        {
            "cell_type": "code",
            "execution_count": null,
            "metadata": {},
            "outputs": [],
            "source": [
                "# DO NOT DELETE OR EDIT THIS CELL\n",
                "if params[\"write_to_sql\"]:\n",
                "    return_value.to_sql(name=sink_table_name, schema=sink_schema_name, if_exists=\"replace\", con=engine)"
            ]
        },
        {
            "cell_type": "code",
            "execution_count": null,
            "metadata": {
                "tags": [
                    "return_value"
                ]
            },
            "outputs": [],
            "source": [
                "# DO NOT EDIT OR DELETE THIS CELL\n",
                "return_value.to_dict(orient=\"records\")"
            ]
        }
    ],
    "metadata": {
        "kernelspec": {
            "display_name": ".venv",
            "language": "python",
            "name": "python3"
        },
        "language_info": {
            "codemirror_mode": {
                "name": "ipython",
                "version": 3
            },
            "file_extension": ".py",
            "mimetype": "text/x-python",
            "name": "python",
            "nbconvert_exporter": "python",
            "pygments_lexer": "ipython3",
            "version": "3.11.4"
        }
    },
    "nbformat": 4,
    "nbformat_minor": 2
}
