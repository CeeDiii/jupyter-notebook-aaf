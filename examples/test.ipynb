{
 "cells": [
  {
   "cell_type": "code",
   "execution_count": null,
   "metadata": {
    "tags": [
     "parameters"
    ]
   },
   "outputs": [],
   "source": [
    "# DO NOT DELETE THIS CELL\n",
    "# ADD YOUR PARAMETER DEFAULT VALUES HERE\n",
    "sales_transactions = None"
   ]
  },
  {
   "cell_type": "code",
   "execution_count": null,
   "metadata": {},
   "outputs": [],
   "source": [
    "import os\n",
    "import pandas as pd"
   ]
  },
  {
   "cell_type": "code",
   "execution_count": null,
   "metadata": {},
   "outputs": [],
   "source": [
    "from dotenv import load_dotenv\n",
    "load_dotenv()\n",
    "env_mode = os.environ[\"ENV_MODE\"]\n",
    "sql_connection_string = os.environ[\"SQL_CONNECTION_STRING\"]\n",
    "\n",
    "def is_dev_mode(env_mode: str):\n",
    "    \"\"\"\n",
    "    check if the current env_mode is \"dev\", otherwise \"prod\" is assumed\n",
    "    \"\"\"\n",
    "    return env_mode == \"dev\"\n",
    "\n",
    "def debug(var):\n",
    "    \"\"\"\n",
    "    only debug (print) the variables if env_mode is \"dev\"\n",
    "    \"\"\"\n",
    "    if is_dev_mode(env_mode):\n",
    "        return var\n",
    "    else:\n",
    "        pass\n",
    "\n",
    "def read_sql(data, *args, **kwargs):\n",
    "    \"\"\"\n",
    "    only read sql if env_mode is \"dev\", otherwise it is assumed that data is the json data passed as parameter\n",
    "    \"\"\"\n",
    "    if is_dev_mode(env_mode):\n",
    "        return pd.read_sql(*args, **kwargs)\n",
    "    else:\n",
    "        return pd.read_json(data)"
   ]
  },
  {
   "cell_type": "code",
   "execution_count": null,
   "metadata": {},
   "outputs": [],
   "source": [
    "# GET DATA\n",
    "sales_transactions = read_sql(data=sales_transactions, sql=\"SELECT * FROM etl.SalesTransactions st WHERE YEAR(st.PostingDate) > 2020\", con=sql_connection_string)"
   ]
  },
  {
   "cell_type": "code",
   "execution_count": null,
   "metadata": {},
   "outputs": [],
   "source": [
    "debug(sales_transactions)"
   ]
  },
  {
   "cell_type": "code",
   "execution_count": null,
   "metadata": {},
   "outputs": [],
   "source": [
    "sales_transactions[\"PostingDate\"] = pd.to_datetime(sales_transactions[\"PostingDate\"])\n",
    "sales_transactions[\"Year\"] = sales_transactions[\"PostingDate\"].dt.year\n",
    "sales_transactions[\"Month\"] = sales_transactions[\"PostingDate\"].dt.month\n",
    "grouped_sales = sales_transactions.groupby(by=[\"CompanyCode\", \"Year\", \"Month\"])[[\"Quantity\", \"NetSalesEUR\", \"GrossProfitEUR\"]].sum()"
   ]
  },
  {
   "cell_type": "code",
   "execution_count": null,
   "metadata": {},
   "outputs": [],
   "source": [
    "debug(grouped_sales)"
   ]
  },
  {
   "cell_type": "code",
   "execution_count": null,
   "metadata": {
    "tags": []
   },
   "outputs": [],
   "source": [
    "# DO NOT DELETE THIS CELL\n",
    "# ASSIGN YOUR RETURN VALUE HERE\n",
    "return_value = grouped_sales.reset_index().to_json(orient=\"records\")"
   ]
  },
  {
   "cell_type": "code",
   "execution_count": null,
   "metadata": {
    "tags": [
     "return_value"
    ]
   },
   "outputs": [],
   "source": [
    "# DO NOT EDIT OR DELETE THIS CELL\n",
    "return_value"
   ]
  },
  {
   "cell_type": "code",
   "execution_count": null,
   "metadata": {},
   "outputs": [],
   "source": []
  }
 ],
 "metadata": {
  "kernelspec": {
   "display_name": ".venv",
   "language": "python",
   "name": "python3"
  },
  "language_info": {
   "codemirror_mode": {
    "name": "ipython",
    "version": 3
   },
   "file_extension": ".py",
   "mimetype": "text/x-python",
   "name": "python",
   "nbconvert_exporter": "python",
   "pygments_lexer": "ipython3",
   "version": "3.11.4"
  }
 },
 "nbformat": 4,
 "nbformat_minor": 2
}
