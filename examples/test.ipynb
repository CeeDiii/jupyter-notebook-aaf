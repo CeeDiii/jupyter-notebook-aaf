{
 "cells": [
  {
   "cell_type": "code",
   "execution_count": null,
   "metadata": {
    "tags": [
     "parameters"
    ]
   },
   "outputs": [],
   "source": [
    "# DO NOT DELETE THIS CELL\n",
    "# ADD YOUR PARAMETER DEFAULT VALUES HERE\n",
    "params = None"
   ]
  },
  {
   "cell_type": "code",
   "execution_count": null,
   "metadata": {},
   "outputs": [],
   "source": [
    "import json\n",
    "import os\n",
    "from dotenv import load_dotenv\n",
    "import pandas as pd\n",
    "import pyodbc\n",
    "\n",
    "def is_dev_mode(env_mode: str):\n",
    "    \"\"\"\n",
    "    check if the current env_mode is \"dev\", otherwise \"prod\" is assumed\n",
    "    \"\"\"\n",
    "    return env_mode == \"dev\"\n",
    "\n",
    "def debug(var):\n",
    "    \"\"\"\n",
    "    only debug (print) the variables if env_mode is \"dev\"\n",
    "    \"\"\"\n",
    "    if is_dev_mode(ENV_MODE):\n",
    "        return var\n",
    "    else:\n",
    "        pass\n",
    "\n",
    "def get_available_sql_driver():\n",
    "    driver_names = [x for x in pyodbc.drivers() if x.endswith(' for SQL Server')]\n",
    "    if len(driver_names) > 0:\n",
    "        driver_name = driver_names[0]\n",
    "        return driver_name\n",
    "    else:\n",
    "       raise ValueError(\"Cannot connect. No suitable driver found.\\nInstall driver from here: https://learn.microsoft.com/en-us/sql/connect/odbc/download-odbc-driver-for-sql-server?view=sql-server-ver16\\n\\n\")\n",
    "\n",
    "def parse_params(params):\n",
    "    \"\"\"\n",
    "    parse the data from the params if env_mode is not \"dev\"\n",
    "    \"\"\"\n",
    "    if not is_dev_mode(ENV_MODE):\n",
    "        params = json.loads(params) # type: ignore - this params will either be overridden by papermill or the local sql query\n",
    "        data = params[\"data\"]\n",
    "        return data\n",
    "    \n",
    "def get_dataset(name: str, data):\n",
    "    \"\"\"\n",
    "    get the dataset with the given name if data was passed from params\n",
    "    \"\"\"\n",
    "    if data is not None:\n",
    "        return data[name]\n",
    "\n",
    "def read_data(data, *args, **kwargs):\n",
    "    \"\"\"\n",
    "    only read sql if env_mode is \"dev\", otherwise it is assumed that data is the json data passed as parameter\n",
    "    \"\"\"\n",
    "    if is_dev_mode(ENV_MODE):\n",
    "        return pd.read_sql(*args, **kwargs)\n",
    "    else:\n",
    "        return pd.DataFrame(data)\n",
    "\n",
    "load_dotenv()\n",
    "ENV_MODE = os.environ[\"ENV_MODE\"]\n",
    "SQL_CONNECTION_STRING = os.environ[\"SQL_CONNECTION_STRING\"]\n",
    "driver = get_available_sql_driver()\n",
    "formatted_driver = \"+\".join(driver.split())\n",
    "SQL_CONNECTION_STRING_WITH_DRIVER = SQL_CONNECTION_STRING + f\"?driver={formatted_driver}\"\n",
    "data = parse_params(params)"
   ]
  },
  {
   "cell_type": "code",
   "execution_count": null,
   "metadata": {},
   "outputs": [],
   "source": [
    "# GET DATA\n",
    "sales_transactions = read_data(data=get_dataset(\"sales_transactions\", data), sql=\"SELECT * FROM etl.SalesTransactions st WHERE YEAR(st.PostingDate) > 2020\", con=SQL_CONNECTION_STRING_WITH_DRIVER)"
   ]
  },
  {
   "cell_type": "code",
   "execution_count": null,
   "metadata": {},
   "outputs": [],
   "source": [
    "debug(sales_transactions)"
   ]
  },
  {
   "cell_type": "code",
   "execution_count": null,
   "metadata": {},
   "outputs": [],
   "source": [
    "sales_transactions[\"PostingDate\"] = pd.to_datetime(sales_transactions[\"PostingDate\"])\n",
    "sales_transactions[\"Year\"] = sales_transactions[\"PostingDate\"].dt.year\n",
    "sales_transactions[\"Month\"] = sales_transactions[\"PostingDate\"].dt.month\n",
    "grouped_sales = sales_transactions.groupby(by=[\"CompanyCode\", \"Year\", \"Month\"])[[\"Quantity\", \"NetSalesEUR\", \"GrossProfitEUR\"]].sum()"
   ]
  },
  {
   "cell_type": "code",
   "execution_count": null,
   "metadata": {},
   "outputs": [],
   "source": [
    "debug(grouped_sales)"
   ]
  },
  {
   "cell_type": "code",
   "execution_count": null,
   "metadata": {
    "tags": []
   },
   "outputs": [],
   "source": [
    "# DO NOT DELETE THIS CELL\n",
    "# ASSIGN YOUR RETURN VALUE HERE\n",
    "return_value = grouped_sales.reset_index().to_json(orient=\"records\")"
   ]
  },
  {
   "cell_type": "code",
   "execution_count": null,
   "metadata": {
    "tags": [
     "return_value"
    ]
   },
   "outputs": [],
   "source": [
    "# DO NOT EDIT OR DELETE THIS CELL\n",
    "return_value"
   ]
  }
 ],
 "metadata": {
  "kernelspec": {
   "display_name": ".venv",
   "language": "python",
   "name": "python3"
  },
  "language_info": {
   "codemirror_mode": {
    "name": "ipython",
    "version": 3
   },
   "file_extension": ".py",
   "mimetype": "text/x-python",
   "name": "python",
   "nbconvert_exporter": "python",
   "pygments_lexer": "ipython3",
   "version": "3.11.4"
  }
 },
 "nbformat": 4,
 "nbformat_minor": 2
}
